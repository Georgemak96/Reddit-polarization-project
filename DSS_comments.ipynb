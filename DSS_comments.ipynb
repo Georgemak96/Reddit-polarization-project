{
 "cells": [
  {
   "cell_type": "code",
   "execution_count": 4,
   "id": "8a4ae15e-44ad-454d-b0c7-f856c9bc6170",
   "metadata": {},
   "outputs": [],
   "source": [
    "import pandas as pd\n",
    "import numpy as np\n",
    "import time\n",
    "import datetime\n",
    "import matplotlib.pyplot as plt\n",
    "import seaborn as sns"
   ]
  },
  {
   "cell_type": "code",
   "execution_count": 18,
   "id": "88ee5de5-2cbb-4a05-b292-0cff4a696d10",
   "metadata": {},
   "outputs": [],
   "source": [
    "df = pd.read_csv('/Users/jayhee/Downloads/comments_2000.csv')"
   ]
  },
  {
   "cell_type": "code",
   "execution_count": 20,
   "id": "0814ab9d-2c28-43b0-94dd-8caba35e0a35",
   "metadata": {},
   "outputs": [
    {
     "data": {
      "text/plain": [
       "count                                                  2000\n",
       "unique                                                 2000\n",
       "top       ['Not just her. Mike Rounds and Kevin Cramer I...\n",
       "freq                                                      1\n",
       "Name: comments, dtype: object"
      ]
     },
     "execution_count": 20,
     "metadata": {},
     "output_type": "execute_result"
    }
   ],
   "source": [
    "df['comments'].describe()"
   ]
  },
  {
   "cell_type": "code",
   "execution_count": 24,
   "id": "e062fcd5-14c5-4035-bc86-514f4655c289",
   "metadata": {},
   "outputs": [],
   "source": [
    "df['label'] = ['Democrats'] * 1000 + ['Republicans'] * 1000"
   ]
  },
  {
   "cell_type": "code",
   "execution_count": 28,
   "id": "51a8227b-a107-45c5-83ef-53e59b89fec6",
   "metadata": {},
   "outputs": [
    {
     "name": "stdout",
     "output_type": "stream",
     "text": [
      "Empty DataFrame\n",
      "Columns: [id, comments, label]\n",
      "Index: []\n"
     ]
    }
   ],
   "source": [
    "# Check the type of each entry in the 'comments' column\n",
    "non_string_entries = df[~df['comments'].apply(lambda x: isinstance(x, str))]\n",
    "\n",
    "print(non_string_entries)"
   ]
  },
  {
   "cell_type": "code",
   "execution_count": 30,
   "id": "f3098571-81c3-4ccf-8d50-0950d76c8ee0",
   "metadata": {},
   "outputs": [],
   "source": [
    "# Convert lists or other iterable entries into a single string\n",
    "df['comments'] = df['comments'].apply(\n",
    "    lambda x: ' '.join(x) if isinstance(x, list) else x\n",
    ")\n"
   ]
  },
  {
   "cell_type": "code",
   "execution_count": 32,
   "id": "cb320c5f-b816-40dd-b155-4137f07611d1",
   "metadata": {},
   "outputs": [
    {
     "name": "stdout",
     "output_type": "stream",
     "text": [
      "           id                                           comments        label\n",
      "0     1gxpeav  ['Not just her. Mike Rounds and Kevin Cramer I...    Democrats\n",
      "1     1gxgra8  ['Still hard to believe', 'I feel your pain. I...    Democrats\n",
      "2     1gxd8ay  ['Translation - rumors were true and suppresse...    Democrats\n",
      "3     1gwtt2i  ['We need to repurpose \"DEI\". One suggestion.....    Democrats\n",
      "4     1gwtdqn  ['Hahahahaha all that tap dancing from him and...    Democrats\n",
      "...       ...                                                ...          ...\n",
      "1995  187ix87  [\"/r/Republican is a partisan subreddit.  This...  Republicans\n",
      "1996  187472x  [\"/r/Republican is a partisan subreddit.  This...  Republicans\n",
      "1997  1863tdd  [\"/r/Republican is a partisan subreddit.  This...  Republicans\n",
      "1998  184gtav  [\"/r/Republican is a partisan subreddit.  This...  Republicans\n",
      "1999  182ymxi  [\"/r/Republican is a partisan subreddit.  This...  Republicans\n",
      "\n",
      "[2000 rows x 3 columns]\n"
     ]
    }
   ],
   "source": [
    "print(df)"
   ]
  },
  {
   "cell_type": "markdown",
   "id": "ce3db3c8-4157-463a-8db2-ca850c0ff110",
   "metadata": {},
   "source": [
    "There are multiple comments in one datapoint, so we should explode the comments."
   ]
  },
  {
   "cell_type": "code",
   "execution_count": 34,
   "id": "acf750b6-7708-421c-a025-2cc42aea2167",
   "metadata": {},
   "outputs": [
    {
     "name": "stdout",
     "output_type": "stream",
     "text": [
      "             id                                           comments  \\\n",
      "0       1gxpeav  Not just her. Mike Rounds and Kevin Cramer I b...   \n",
      "1       1gxpeav  Can’t Biden just order the FBI to conduct a ba...   \n",
      "2       1gxpeav  The Republicans don't need her vote, though. T...   \n",
      "3       1gxpeav       Eh. The bar gets lower by the day I suppose.   \n",
      "4       1gxpeav  Don’t worry everybody, Susan Collins will expr...   \n",
      "...         ...                                                ...   \n",
      "226478  182ymxi  The perpetrators werre one race, and the victi...   \n",
      "226479  182ymxi  Is he a super progressive prosecutor or someth...   \n",
      "226480  182ymxi  >Is he a super progressive prosecutor or somet...   \n",
      "226481  182ymxi  Ah, I see. So in CA, the lying in wait is a sp...   \n",
      "226482  182ymxi  Yeah, I worked in Mississippi an Tennessee, an...   \n",
      "\n",
      "              label  \n",
      "0         Democrats  \n",
      "1         Democrats  \n",
      "2         Democrats  \n",
      "3         Democrats  \n",
      "4         Democrats  \n",
      "...             ...  \n",
      "226478  Republicans  \n",
      "226479  Republicans  \n",
      "226480  Republicans  \n",
      "226481  Republicans  \n",
      "226482  Republicans  \n",
      "\n",
      "[226483 rows x 3 columns]\n"
     ]
    }
   ],
   "source": [
    "import ast\n",
    "\n",
    "# Convert the 'comments' column from string to list\n",
    "df['comments'] = df['comments'].apply(ast.literal_eval)\n",
    "\n",
    "# Explode the 'comments' column to separate each text into its own row\n",
    "df_exploded = df.explode('comments').reset_index(drop=True)\n",
    "\n",
    "print(df_exploded)"
   ]
  },
  {
   "cell_type": "code",
   "execution_count": 40,
   "id": "685334da-8a65-4410-9c45-9a88cc24fdd2",
   "metadata": {},
   "outputs": [
    {
     "name": "stdout",
     "output_type": "stream",
     "text": [
      "             id                                           comments  \\\n",
      "0       1gxpeav  Not just her. Mike Rounds and Kevin Cramer I b...   \n",
      "1       1gxpeav  Can’t Biden just order the FBI to conduct a ba...   \n",
      "2       1gxpeav  The Republicans don't need her vote, though. T...   \n",
      "3       1gxpeav       Eh. The bar gets lower by the day I suppose.   \n",
      "4       1gxpeav  Don’t worry everybody, Susan Collins will expr...   \n",
      "...         ...                                                ...   \n",
      "225088  182ymxi  The perpetrators werre one race, and the victi...   \n",
      "225089  182ymxi  Is he a super progressive prosecutor or someth...   \n",
      "225090  182ymxi  >Is he a super progressive prosecutor or somet...   \n",
      "225091  182ymxi  Ah, I see. So in CA, the lying in wait is a sp...   \n",
      "225092  182ymxi  Yeah, I worked in Mississippi an Tennessee, an...   \n",
      "\n",
      "              label  \n",
      "0         Democrats  \n",
      "1         Democrats  \n",
      "2         Democrats  \n",
      "3         Democrats  \n",
      "4         Democrats  \n",
      "...             ...  \n",
      "225088  Republicans  \n",
      "225089  Republicans  \n",
      "225090  Republicans  \n",
      "225091  Republicans  \n",
      "225092  Republicans  \n",
      "\n",
      "[225093 rows x 3 columns]\n"
     ]
    }
   ],
   "source": [
    "# Ensure all values in 'comments' column are strings and handle NaN values\n",
    "df_exploded['comments'] = df_exploded['comments'].fillna('').astype(str)\n",
    "\n",
    "# List of phrases to check\n",
    "phrases_to_remove = [\n",
    "    \"**Join:**\\n\\n* /r/KamalaHarris\\n\\n*\",\n",
    "    \"**Take action:\",\n",
    "    \"/r/Republican is a partisan subreddit.\"\n",
    "]\n",
    "\n",
    "# Filter out rows where 'comments' start with any of the specified phrases\n",
    "df_filtered = df_exploded[~df_exploded['comments'].str.startswith(tuple(phrases_to_remove))].reset_index(drop=True)\n",
    "\n",
    "print(df_filtered)\n"
   ]
  },
  {
   "cell_type": "code",
   "execution_count": null,
   "id": "72c104aa-a419-407c-ad0f-752d5c9af1e0",
   "metadata": {},
   "outputs": [],
   "source": [
    "# Calculate the percentage of each label\n",
    "label_distribution = df_filtered['label'].value_counts(normalize=True) * 100\n",
    "\n",
    "# Print the percentages\n",
    "print(label_distribution)\n",
    "\n",
    "# Plot a pie chart\n",
    "plt.figure(figsize=(4, 4))\n",
    "label_distribution.plot.pie(autopct='%1.1f%%', startangle=90, colors=['skyblue', 'orange'])\n",
    "plt.title('Percentage of Labels')\n",
    "plt.ylabel('')  # Remove y-label for clarity\n",
    "plt.show()"
   ]
  },
  {
   "cell_type": "code",
   "execution_count": 47,
   "id": "ecabb485-7262-4b35-ae80-7ad9896d18fe",
   "metadata": {},
   "outputs": [
    {
     "name": "stdout",
     "output_type": "stream",
     "text": [
      "Number of Republican comments: 51340\n",
      "label\n",
      "Republicans    51340\n",
      "Democrats      51340\n",
      "Name: count, dtype: int64\n"
     ]
    }
   ],
   "source": [
    "# Step 1: Remove redundant and too-short comments\n",
    "df_filtered = df_filtered[df_filtered['comments'].str.len() >= 20]  # Keep only comments with 20+ characters\n",
    "\n",
    "# Step 2: Count the number of Republican comments\n",
    "num_republicans = df_filtered[df_filtered['label'] == 'Republicans'].shape[0]\n",
    "\n",
    "print(f\"Number of Republican comments: {num_republicans}\")\n",
    "\n",
    "# Step 3: Randomly sample the same number of Democrat comments\n",
    "df_democrats_sampled = df_filtered[df_filtered['label'] == 'Democrats'].sample(n=num_republicans, random_state=42)\n",
    "\n",
    "# Step 4: Combine the sampled Democrats and Republicans\n",
    "df_balanced = pd.concat([df_democrats_sampled, df_filtered[df_filtered['label'] == 'Republicans']])\n",
    "\n",
    "# Step 5: Shuffle the dataset\n",
    "df_balanced = df_balanced.sample(frac=1, random_state=42).reset_index(drop=True)\n",
    "\n",
    "# Check the balance\n",
    "print(df_balanced['label'].value_counts())\n",
    "\n",
    "# Save the balanced dataset if needed\n",
    "# df_balanced.to_csv('balanced_dataset.csv', index=False)\n"
   ]
  },
  {
   "cell_type": "code",
   "execution_count": 51,
   "id": "09694c4d-d758-4cbd-bda9-ded81b83a065",
   "metadata": {},
   "outputs": [
    {
     "name": "stdout",
     "output_type": "stream",
     "text": [
      "label\n",
      "Republicans    50.0\n",
      "Democrats      50.0\n",
      "Name: proportion, dtype: float64\n"
     ]
    },
    {
     "data": {
      "image/png": "[encoded data removed]",
      "text/plain": [
       "<Figure size 800x800 with 1 Axes>"
      ]
     },
     "metadata": {},
     "output_type": "display_data"
    }
   ],
   "source": [
    "# Calculate the percentage of each label\n",
    "label_distribution = df_balanced['label'].value_counts(normalize=True) * 100\n",
    "\n",
    "# Print the percentages\n",
    "print(label_distribution)\n",
    "# Plot a pie chart\n",
    "plt.figure(figsize=(8, 8))\n",
    "label_distribution.plot.pie(autopct='%1.1f%%', startangle=90, colors=['skyblue', 'orange'])\n",
    "plt.title('Percentage of Labels')\n",
    "plt.ylabel('')  # Remove y-label for clarity\n",
    "plt.show()"
   ]
  },
  {
   "cell_type": "code",
   "execution_count": 53,
   "id": "c667edfe-d74d-4e86-981f-4be109609b39",
   "metadata": {},
   "outputs": [
    {
     "name": "stdout",
     "output_type": "stream",
     "text": [
      "Collecting vaderSentiment\n",
      "  Downloading vaderSentiment-3.3.2-py2.py3-none-any.whl.metadata (572 bytes)\n",
      "Requirement already satisfied: requests in /opt/anaconda3/lib/python3.12/site-packages (from vaderSentiment) (2.32.3)\n",
      "Requirement already satisfied: charset-normalizer<4,>=2 in /opt/anaconda3/lib/python3.12/site-packages (from requests->vaderSentiment) (3.3.2)\n",
      "Requirement already satisfied: idna<4,>=2.5 in /opt/anaconda3/lib/python3.12/site-packages (from requests->vaderSentiment) (3.7)\n",
      "Requirement already satisfied: urllib3<3,>=1.21.1 in /opt/anaconda3/lib/python3.12/site-packages (from requests->vaderSentiment) (2.2.3)\n",
      "Requirement already satisfied: certifi>=2017.4.17 in /opt/anaconda3/lib/python3.12/site-packages (from requests->vaderSentiment) (2024.12.14)\n",
      "Downloading vaderSentiment-3.3.2-py2.py3-none-any.whl (125 kB)\n",
      "Installing collected packages: vaderSentiment\n",
      "Successfully installed vaderSentiment-3.3.2\n",
      "Note: you may need to restart the kernel to use updated packages.\n"
     ]
    }
   ],
   "source": [
    "pip install vaderSentiment"
   ]
  },
  {
   "cell_type": "code",
   "execution_count": 65,
   "id": "2caa6854-07b4-45d8-ae9a-9509c8ee7677",
   "metadata": {},
   "outputs": [
    {
     "name": "stdout",
     "output_type": "stream",
     "text": [
      "sentiment\n",
      "Positive    38.398909\n",
      "Negative    36.439423\n",
      "Neutral     25.161667\n",
      "Name: proportion, dtype: float64\n"
     ]
    },
    {
     "data": {
      "image/png": "[encoded data removed]",
      "text/plain": [
       "<Figure size 800x800 with 1 Axes>"
      ]
     },
     "metadata": {},
     "output_type": "display_data"
    }
   ],
   "source": [
    "from vaderSentiment.vaderSentiment import SentimentIntensityAnalyzer\n",
    "\n",
    "# Initialize the sentiment analyzer\n",
    "analyzer = SentimentIntensityAnalyzer()\n",
    "\n",
    "# Define a function to classify sentiments\n",
    "def classify_sentiment(comment):\n",
    "    score = analyzer.polarity_scores(comment)['compound']\n",
    "    if score >= 0.2:\n",
    "        return 'Positive'\n",
    "    elif score <= -0.05:\n",
    "        return 'Negative'\n",
    "    else:\n",
    "        return 'Neutral'\n",
    "\n",
    "# Apply the function to the comments\n",
    "df_balanced['sentiment'] = df_balanced['comments'].apply(classify_sentiment)\n",
    "\n",
    "# Check the distribution of sentiments\n",
    "sentiment_distribution = df_balanced['sentiment'].value_counts(normalize=True) * 100\n",
    "print(sentiment_distribution)\n",
    "\n",
    "# Plot the sentiment distribution\n",
    "plt.figure(figsize=(8, 8))\n",
    "sentiment_distribution.plot.pie(autopct='%1.1f%%', startangle=90, colors=['blue', 'red', 'gray'])\n",
    "plt.title('Sentiment Distribution')\n",
    "plt.ylabel('')  # Remove y-label for clarity\n",
    "plt.show()\n"
   ]
  },
  {
   "cell_type": "code",
   "execution_count": 63,
   "id": "43dea691-1762-4794-aff0-476984603638",
   "metadata": {},
   "outputs": [
    {
     "data": {
      "text/html": [
       "<div>\n",
       "<style scoped>\n",
       "    .dataframe tbody tr th:only-of-type {\n",
       "        vertical-align: middle;\n",
       "    }\n",
       "\n",
       "    .dataframe tbody tr th {\n",
       "        vertical-align: top;\n",
       "    }\n",
       "\n",
       "    .dataframe thead th {\n",
       "        text-align: right;\n",
       "    }\n",
       "</style>\n",
       "<table border=\"1\" class=\"dataframe\">\n",
       "  <thead>\n",
       "    <tr style=\"text-align: right;\">\n",
       "      <th></th>\n",
       "      <th>id</th>\n",
       "      <th>comments</th>\n",
       "      <th>label</th>\n",
       "    </tr>\n",
       "  </thead>\n",
       "  <tbody>\n",
       "    <tr>\n",
       "      <th>0</th>\n",
       "      <td>1gooevo</td>\n",
       "      <td>'I don't want to be a conspiracy theorist but ...</td>\n",
       "      <td>Republicans</td>\n",
       "    </tr>\n",
       "    <tr>\n",
       "      <th>1</th>\n",
       "      <td>1gfjf1b</td>\n",
       "      <td>What's the problem? It's a factually correct s...</td>\n",
       "      <td>Democrats</td>\n",
       "    </tr>\n",
       "    <tr>\n",
       "      <th>2</th>\n",
       "      <td>1f9847v</td>\n",
       "      <td>&gt; Who is the real rino?\\n\\nThe person who endo...</td>\n",
       "      <td>Republicans</td>\n",
       "    </tr>\n",
       "    <tr>\n",
       "      <th>3</th>\n",
       "      <td>1er9uky</td>\n",
       "      <td>First, tips are already subject to federal inc...</td>\n",
       "      <td>Republicans</td>\n",
       "    </tr>\n",
       "    <tr>\n",
       "      <th>4</th>\n",
       "      <td>1evfhkx</td>\n",
       "      <td>Reestablish the constitutional systems of chec...</td>\n",
       "      <td>Democrats</td>\n",
       "    </tr>\n",
       "    <tr>\n",
       "      <th>...</th>\n",
       "      <td>...</td>\n",
       "      <td>...</td>\n",
       "      <td>...</td>\n",
       "    </tr>\n",
       "    <tr>\n",
       "      <th>102675</th>\n",
       "      <td>1eejhzd</td>\n",
       "      <td>I would vote for a pile of dog shit over trump...</td>\n",
       "      <td>Democrats</td>\n",
       "    </tr>\n",
       "    <tr>\n",
       "      <th>102676</th>\n",
       "      <td>1gpo9d3</td>\n",
       "      <td>I had to join Planet Fitness because it’s lite...</td>\n",
       "      <td>Republicans</td>\n",
       "    </tr>\n",
       "    <tr>\n",
       "      <th>102677</th>\n",
       "      <td>1fdpzen</td>\n",
       "      <td>Jesus Christ. There was no stealing the vote. ...</td>\n",
       "      <td>Republicans</td>\n",
       "    </tr>\n",
       "    <tr>\n",
       "      <th>102678</th>\n",
       "      <td>1fhf4ub</td>\n",
       "      <td>I think it was Tom Arnold who told a joke abou...</td>\n",
       "      <td>Democrats</td>\n",
       "    </tr>\n",
       "    <tr>\n",
       "      <th>102679</th>\n",
       "      <td>1etbyyk</td>\n",
       "      <td>And that’s why voters will be responding to Tr...</td>\n",
       "      <td>Democrats</td>\n",
       "    </tr>\n",
       "  </tbody>\n",
       "</table>\n",
       "<p>102680 rows × 3 columns</p>\n",
       "</div>"
      ],
      "text/plain": [
       "             id                                           comments  \\\n",
       "0       1gooevo  'I don't want to be a conspiracy theorist but ...   \n",
       "1       1gfjf1b  What's the problem? It's a factually correct s...   \n",
       "2       1f9847v  > Who is the real rino?\\n\\nThe person who endo...   \n",
       "3       1er9uky  First, tips are already subject to federal inc...   \n",
       "4       1evfhkx  Reestablish the constitutional systems of chec...   \n",
       "...         ...                                                ...   \n",
       "102675  1eejhzd  I would vote for a pile of dog shit over trump...   \n",
       "102676  1gpo9d3  I had to join Planet Fitness because it’s lite...   \n",
       "102677  1fdpzen  Jesus Christ. There was no stealing the vote. ...   \n",
       "102678  1fhf4ub  I think it was Tom Arnold who told a joke abou...   \n",
       "102679  1etbyyk  And that’s why voters will be responding to Tr...   \n",
       "\n",
       "              label  \n",
       "0       Republicans  \n",
       "1         Democrats  \n",
       "2       Republicans  \n",
       "3       Republicans  \n",
       "4         Democrats  \n",
       "...             ...  \n",
       "102675    Democrats  \n",
       "102676  Republicans  \n",
       "102677  Republicans  \n",
       "102678    Democrats  \n",
       "102679    Democrats  \n",
       "\n",
       "[102680 rows x 3 columns]"
      ]
     },
     "execution_count": 63,
     "metadata": {},
     "output_type": "execute_result"
    }
   ],
   "source": [
    "df_balanced"
   ]
  },
  {
   "cell_type": "code",
   "execution_count": 67,
   "id": "0525da79-f099-4bc7-a3fd-f28b4924d520",
   "metadata": {},
   "outputs": [
    {
     "data": {
      "image/png": "[encoded data removed]",
      "text/plain": [
       "<Figure size 1000x600 with 1 Axes>"
      ]
     },
     "metadata": {},
     "output_type": "display_data"
    }
   ],
   "source": [
    "import matplotlib.pyplot as plt\n",
    "\n",
    "sentiment_by_label = df_balanced.groupby(['label', 'sentiment']).size().unstack()\n",
    "\n",
    "sentiment_by_label.plot(kind='bar', stacked=True, figsize=(10, 6))\n",
    "plt.title('Sentiment Distribution by Political Affiliation')\n",
    "plt.ylabel('Number of Comments')\n",
    "plt.xlabel('Political Affiliation')\n",
    "plt.legend(title='Sentiment')\n",
    "plt.show()\n"
   ]
  },
  {
   "cell_type": "code",
   "execution_count": 73,
   "id": "14a2869f-9b19-409c-ac6d-627bc1435b27",
   "metadata": {},
   "outputs": [
    {
     "data": {
      "image/png": "[encoded data removed]",
      "text/plain": [
       "<Figure size 1000x600 with 1 Axes>"
      ]
     },
     "metadata": {},
     "output_type": "display_data"
    }
   ],
   "source": [
    "sentiment_scores = df_balanced.groupby('label')['comments'].apply(\n",
    "    lambda x: x.apply(lambda comment: analyzer.polarity_scores(comment)['compound']).mean()\n",
    ")\n",
    "print(sentiment_scores)\n"
   ]
  },
  {
   "cell_type": "code",
   "execution_count": 75,
   "id": "8e759cd2-c737-4921-8630-8d8d7ea5adef",
   "metadata": {},
   "outputs": [
    {
     "name": "stdout",
     "output_type": "stream",
     "text": [
      "Accuracy: 0.6874269575379821\n",
      "\n",
      "Classification Report:\n",
      "               precision    recall  f1-score   support\n",
      "\n",
      "   Democrats       0.68      0.70      0.69     10296\n",
      " Republicans       0.69      0.67      0.68     10240\n",
      "\n",
      "    accuracy                           0.69     20536\n",
      "   macro avg       0.69      0.69      0.69     20536\n",
      "weighted avg       0.69      0.69      0.69     20536\n",
      "\n"
     ]
    }
   ],
   "source": [
    "from sklearn.feature_extraction.text import TfidfVectorizer\n",
    "from sklearn.model_selection import train_test_split\n",
    "from sklearn.linear_model import LogisticRegression\n",
    "from sklearn.metrics import classification_report, accuracy_score\n",
    "\n",
    "# Convert comments to numeric features using TF-IDF\n",
    "vectorizer = TfidfVectorizer(max_features=5000, stop_words='english')\n",
    "X = vectorizer.fit_transform(df_balanced['comments'])\n",
    "y = df_balanced['label']\n",
    "\n",
    "# Split data into training and testing sets\n",
    "X_train, X_test, y_train, y_test = train_test_split(X, y, test_size=0.2, random_state=42)\n",
    "\n",
    "# Train a Logistic Regression classifier\n",
    "model = LogisticRegression(max_iter=1000, random_state=42)\n",
    "model.fit(X_train, y_train)\n",
    "\n",
    "# Predict on the test set\n",
    "y_pred = model.predict(X_test)\n",
    "\n",
    "# Evaluate the classifier\n",
    "print(\"Accuracy:\", accuracy_score(y_test, y_pred))\n",
    "print(\"\\nClassification Report:\\n\", classification_report(y_test, y_pred))\n"
   ]
  },
  {
   "cell_type": "code",
   "execution_count": 79,
   "id": "67c7a83d-9b6b-42af-9246-2dc69e092df3",
   "metadata": {},
   "outputs": [
    {
     "name": "stdout",
     "output_type": "stream",
     "text": [
      "Fitting 5 folds for each of 16 candidates, totalling 80 fits\n",
      "Logistic Regression Best Parameters: {'C': 1, 'max_iter': 100, 'solver': 'liblinear'}\n",
      "Logistic Regression Accuracy: 0.6831417792742774\n"
     ]
    }
   ],
   "source": [
    "from sklearn.linear_model import LogisticRegression\n",
    "from sklearn.model_selection import GridSearchCV\n",
    "\n",
    "# Define parameter grid for Logistic Regression\n",
    "param_grid_lr = {\n",
    "    'C': [0.01, 0.1, 1, 10],\n",
    "    'solver': ['liblinear', 'lbfgs'],\n",
    "    'max_iter': [100, 200]\n",
    "}\n",
    "\n",
    "grid_search_lr = GridSearchCV(LogisticRegression(random_state=42), param_grid_lr, cv=5, scoring='accuracy', verbose=1)\n",
    "grid_search_lr.fit(X_train, y_train)\n",
    "\n",
    "# Best Logistic Regression model\n",
    "best_lr = grid_search_lr.best_estimator_\n",
    "lr_accuracy = grid_search_lr.best_score_\n",
    "print(\"Logistic Regression Best Parameters:\", grid_search_lr.best_params_)\n",
    "print(\"Logistic Regression Accuracy:\", lr_accuracy)"
   ]
  },
  {
   "cell_type": "code",
   "execution_count": 84,
   "id": "aa22a4ab-68fc-49f8-9a39-3c3b84e324e5",
   "metadata": {},
   "outputs": [
    {
     "name": "stdout",
     "output_type": "stream",
     "text": [
      "Fitting 5 folds for each of 24 candidates, totalling 120 fits\n",
      "Random Forest Best Parameters: {'max_depth': 20, 'min_samples_leaf': 1, 'min_samples_split': 2, 'n_estimators': 500}\n",
      "Random Forest Accuracy: 0.6456588149347163\n",
      "Time taken for SVM Grid Search: 965.75 seconds\n"
     ]
    }
   ],
   "source": [
    "from sklearn.ensemble import RandomForestClassifier\n",
    "\n",
    "# Define parameter grid for Random Forest\n",
    "param_grid_rf = {\n",
    "    'n_estimators': [100, 200, 500],\n",
    "    'max_depth': [10, 20],\n",
    "    'min_samples_split': [2, 5],\n",
    "    'min_samples_leaf': [1, 3]\n",
    "}\n",
    "# Measure start time\n",
    "start_time = time.time()\n",
    "\n",
    "grid_search_rf = GridSearchCV(RandomForestClassifier(random_state=42), param_grid_rf, cv=5, scoring='accuracy', verbose=1)\n",
    "grid_search_rf.fit(X_train, y_train)\n",
    "\n",
    "\n",
    "# Measure end time\n",
    "end_time = time.time()\n",
    "\n",
    "# Calculate elapsed time\n",
    "elapsed_time = end_time - start_time\n",
    "\n",
    "# Best Random Forest model\n",
    "best_rf = grid_search_rf.best_estimator_\n",
    "rf_accuracy = grid_search_rf.best_score_\n",
    "print(\"Random Forest Best Parameters:\", grid_search_rf.best_params_)\n",
    "print(\"Random Forest Accuracy:\", rf_accuracy)\n",
    "print(f\"Time taken for RF Grid Search: {elapsed_time:.2f} seconds\")"
   ]
  },
  {
   "cell_type": "code",
   "execution_count": 96,
   "id": "7129540d-a9db-49ec-ba69-e56c4e55f002",
   "metadata": {},
   "outputs": [
    {
     "name": "stdout",
     "output_type": "stream",
     "text": [
      "Random Forest Test Accuracy: 0.6421406310868718\n"
     ]
    }
   ],
   "source": [
    "# Evaluate Random Forest on test set\n",
    "rf_test_predictions = best_rf.predict(X_test)\n",
    "rf_test_accuracy = accuracy_score(y_test, rf_test_predictions)\n",
    "print(\"Random Forest Test Accuracy:\", rf_test_accuracy)"
   ]
  },
  {
   "cell_type": "code",
   "execution_count": 94,
   "id": "beb90fd0-e62c-4518-ad1f-84b3755bec3d",
   "metadata": {},
   "outputs": [
    {
     "name": "stdout",
     "output_type": "stream",
     "text": [
      "Test Accuracy with Best Hyperparameters: 0.6866478379431242\n"
     ]
    }
   ],
   "source": [
    "# Train the Logistic Regression model with the best hyperparameters on the training set\n",
    "best_model = grid_search_lr.best_estimator_\n",
    "\n",
    "# Use the trained model to make predictions on the test set\n",
    "y_pred = best_model.predict(X_test)\n",
    "\n",
    "# Evaluate the model's performance on the test set\n",
    "from sklearn.metrics import accuracy_score\n",
    "test_accuracy = accuracy_score(y_test, y_pred)\n",
    "print(\"Test Accuracy with Best Hyperparameters:\", test_accuracy)\n"
   ]
  },
  {
   "cell_type": "markdown",
   "id": "78d7414d-dd88-468b-a56e-d218bf2e3179",
   "metadata": {},
   "source": [
    "### **Motivation for Using Deep Learning**\n",
    "\n",
    "In the initial stages, traditional machine learning models such as Logistic Regression and Random Forest were implemented for classifying comments into Republican and Democrat categories. While these models provided baseline performance, their results were not satisfactory due to the complex and nuanced nature of textual data, which often requires capturing sequential dependencies and contextual relationships between words. As such, I decided to explore deep learning techniques to improve classification performance.\n",
    "\n",
    "---\n",
    "\n",
    "### **Overview of the Deep Learning Approach**\n",
    "\n",
    "To address the limitations of traditional models, I implemented a deep learning model leveraging the TensorFlow library. The architecture was designed to capture the sequential nature of text data and make better predictions by learning word relationships and context. Here’s a brief summary of the process:\n",
    "\n",
    "1. **Data Preprocessing**:\n",
    "   - The comments were tokenized and converted into sequences of integers using TensorFlow's `Tokenizer`.\n",
    "   - These sequences were padded to ensure uniform input size for the model.\n",
    "\n",
    "2. **Model Architecture**:\n",
    "   - **Embedding Layer**: Maps each word in the vocabulary to a dense vector representation, capturing semantic similarities between words.\n",
    "   - **Bidirectional LSTM Layer**: A recurrent neural network layer that processes the input sequence in both forward and backward directions, enabling the model to learn long-term dependencies and context effectively.\n",
    "   - **Dropout Layers**: Added to reduce overfitting by randomly deactivating a fraction of neurons during training.\n",
    "   - **Fully Connected Dense Layers**: These layers process the features extracted by the LSTM and make the final prediction.\n",
    "   - **Output Layer**: A single neuron with a sigmoid activation function was used for binary classification (Republicans vs. Democrats).\n",
    "\n",
    "3. **Model Compilation and Training**:\n",
    "   - The model was compiled using the Adam optimizer and binary cross-entropy loss, which are well-suited for binary classification tasks.\n",
    "   - Training was performed on the processed dataset with a validation split to monitor the model’s performance during training.\n",
    "\n",
    "By implementing this architecture, the model aims to capture the contextual relationships within the text, offering a significant improvement over traditional machine learning models in handling the complexity of political comments.\n"
   ]
  },
  {
   "cell_type": "code",
   "execution_count": 98,
   "id": "ad4f2f99-4bb1-4c20-8ac2-929f14521538",
   "metadata": {},
   "outputs": [
    {
     "data": {
      "text/plain": [
       "count    102680.000000\n",
       "mean         31.914618\n",
       "std          45.498186\n",
       "min           1.000000\n",
       "25%          10.000000\n",
       "50%          19.000000\n",
       "75%          36.000000\n",
       "max        1611.000000\n",
       "Name: length, dtype: float64"
      ]
     },
     "execution_count": 98,
     "metadata": {},
     "output_type": "execute_result"
    }
   ],
   "source": [
    "# Analyze comment lengths\n",
    "df_balanced['length'] = df_balanced['comments'].apply(lambda x: len(x.split()))\n",
    "df_balanced['length'].describe()\n"
   ]
  },
  {
   "cell_type": "code",
   "execution_count": 100,
   "id": "131ac19f-2718-4b21-91ba-6c9600802e28",
   "metadata": {},
   "outputs": [
    {
     "data": {
      "image/png": "[encoded data removed]",
      "text/plain": [
       "<Figure size 640x480 with 1 Axes>"
      ]
     },
     "metadata": {},
     "output_type": "display_data"
    }
   ],
   "source": [
    "import matplotlib.pyplot as plt\n",
    "\n",
    "plt.hist(df_balanced['length'], bins=50, color='blue', alpha=0.7)\n",
    "plt.title('Distribution of Comment Lengths')\n",
    "plt.xlabel('Comment Length (number of words)')\n",
    "plt.ylabel('Frequency')\n",
    "plt.show()\n"
   ]
  },
  {
   "cell_type": "code",
   "execution_count": 102,
   "id": "64cd9e06-e350-420e-bb40-f05f5f9b83b9",
   "metadata": {},
   "outputs": [
    {
     "name": "stdout",
     "output_type": "stream",
     "text": [
      "Chosen max sequence length: 68\n"
     ]
    }
   ],
   "source": [
    "# Set maximum length to the 90th percentile\n",
    "max_sequence_length = int(df_balanced['length'].quantile(0.9))\n",
    "print(f\"Chosen max sequence length: {max_sequence_length}\")\n"
   ]
  },
  {
   "cell_type": "code",
   "execution_count": 104,
   "id": "667e11ca-7e7c-4299-bae2-cf28d560e212",
   "metadata": {},
   "outputs": [],
   "source": [
    "from tensorflow.keras.preprocessing.text import Tokenizer\n",
    "from tensorflow.keras.preprocessing.sequence import pad_sequences\n",
    "\n",
    "# Tokenize and truncate sequences\n",
    "tokenizer = Tokenizer(num_words=10000, oov_token=\"<OOV>\")\n",
    "tokenizer.fit_on_texts(df_balanced['comments'])\n",
    "sequences = tokenizer.texts_to_sequences(df_balanced['comments'])\n",
    "\n",
    "# Pad and truncate to max_sequence_length\n",
    "max_sequence_length = 68\n",
    "padded_sequences = pad_sequences(sequences, maxlen=max_sequence_length, padding='post', truncating='post')\n"
   ]
  },
  {
   "cell_type": "code",
   "execution_count": 107,
   "id": "8ed5795e-377c-4394-b445-3dd397bcc891",
   "metadata": {},
   "outputs": [
    {
     "name": "stdout",
     "output_type": "stream",
     "text": [
      "label\n",
      "Republicans    0.5\n",
      "Democrats      0.5\n",
      "Name: proportion, dtype: float64\n"
     ]
    }
   ],
   "source": [
    "# Check the class distribution\n",
    "class_distribution = df_balanced['label'].value_counts(normalize=True)\n",
    "print(class_distribution)\n"
   ]
  },
  {
   "cell_type": "markdown",
   "id": "a8f723ed-d5e0-4d9d-9fec-2b8d4b441820",
   "metadata": {},
   "source": [
    "### Split the Data\n",
    "We need to split the \"padded_sequences\" (input features) and labels into training and testing datasets."
   ]
  },
  {
   "cell_type": "code",
   "execution_count": 109,
   "id": "b633cd41-f95a-4d3c-ad15-6edfbcb89ecc",
   "metadata": {},
   "outputs": [],
   "source": [
    "# Encode labels: Republicans = 0, Democrats = 1\n",
    "label_map = {'Republicans': 0, 'Democrats': 1}\n",
    "labels = df_balanced['label'].map(label_map).values\n",
    "\n",
    "# Split the data\n",
    "X_train, X_test, y_train, y_test = train_test_split(\n",
    "    padded_sequences, labels, test_size=0.2, random_state=42\n",
    ")\n",
    "\n",
    "# Convert to NumPy arrays (required for TensorFlow)\n",
    "X_train = np.array(X_train)\n",
    "X_test = np.array(X_test)\n",
    "y_train = np.array(y_train)\n",
    "y_test = np.array(y_test)"
   ]
  },
  {
   "cell_type": "markdown",
   "id": "5a602589-ce10-4821-8166-eccd21694e09",
   "metadata": {},
   "source": [
    "## Build a TensorFlow Model\n",
    "Now, build a deep learning model. We'll use an Embedding layer and a Bidirectional LSTM for text classification."
   ]
  },
  {
   "cell_type": "code",
   "execution_count": 114,
   "id": "2f8ff537-7cdb-42ec-9f58-a45d57a4ffd4",
   "metadata": {},
   "outputs": [
    {
     "data": {
      "text/html": [
       "<pre style=\"white-space:pre;overflow-x:auto;line-height:normal;font-family:Menlo,'DejaVu Sans Mono',consolas,'Courier New',monospace\"><span style=\"font-weight: bold\">Model: \"sequential_1\"</span>\n",
       "</pre>\n"
      ],
      "text/plain": [
       "\u001b[1mModel: \"sequential_1\"\u001b[0m\n"
      ]
     },
     "metadata": {},
     "output_type": "display_data"
    },
    {
     "data": {
      "text/html": [
       "<pre style=\"white-space:pre;overflow-x:auto;line-height:normal;font-family:Menlo,'DejaVu Sans Mono',consolas,'Courier New',monospace\">┏━━━━━━━━━━━━━━━━━━━━━━━━━━━━━━━━━┳━━━━━━━━━━━━━━━━━━━━━━━━┳━━━━━━━━━━━━━━━┓\n",
       "┃<span style=\"font-weight: bold\"> Layer (type)                    </span>┃<span style=\"font-weight: bold\"> Output Shape           </span>┃<span style=\"font-weight: bold\">       Param # </span>┃\n",
       "┡━━━━━━━━━━━━━━━━━━━━━━━━━━━━━━━━━╇━━━━━━━━━━━━━━━━━━━━━━━━╇━━━━━━━━━━━━━━━┩\n",
       "│ embedding_1 (<span style=\"color: #0087ff; text-decoration-color: #0087ff\">Embedding</span>)         │ ?                      │   <span style=\"color: #00af00; text-decoration-color: #00af00\">0</span> (unbuilt) │\n",
       "├─────────────────────────────────┼────────────────────────┼───────────────┤\n",
       "│ bidirectional_1 (<span style=\"color: #0087ff; text-decoration-color: #0087ff\">Bidirectional</span>) │ ?                      │   <span style=\"color: #00af00; text-decoration-color: #00af00\">0</span> (unbuilt) │\n",
       "├─────────────────────────────────┼────────────────────────┼───────────────┤\n",
       "│ dropout_1 (<span style=\"color: #0087ff; text-decoration-color: #0087ff\">Dropout</span>)             │ ?                      │             <span style=\"color: #00af00; text-decoration-color: #00af00\">0</span> │\n",
       "├─────────────────────────────────┼────────────────────────┼───────────────┤\n",
       "│ lstm_3 (<span style=\"color: #0087ff; text-decoration-color: #0087ff\">LSTM</span>)                   │ ?                      │   <span style=\"color: #00af00; text-decoration-color: #00af00\">0</span> (unbuilt) │\n",
       "├─────────────────────────────────┼────────────────────────┼───────────────┤\n",
       "│ dense_2 (<span style=\"color: #0087ff; text-decoration-color: #0087ff\">Dense</span>)                 │ ?                      │   <span style=\"color: #00af00; text-decoration-color: #00af00\">0</span> (unbuilt) │\n",
       "├─────────────────────────────────┼────────────────────────┼───────────────┤\n",
       "│ dense_3 (<span style=\"color: #0087ff; text-decoration-color: #0087ff\">Dense</span>)                 │ ?                      │   <span style=\"color: #00af00; text-decoration-color: #00af00\">0</span> (unbuilt) │\n",
       "└─────────────────────────────────┴────────────────────────┴───────────────┘\n",
       "</pre>\n"
      ],
      "text/plain": [
       "┏━━━━━━━━━━━━━━━━━━━━━━━━━━━━━━━━━┳━━━━━━━━━━━━━━━━━━━━━━━━┳━━━━━━━━━━━━━━━┓\n",
       "┃\u001b[1m \u001b[0m\u001b[1mLayer (type)                   \u001b[0m\u001b[1m \u001b[0m┃\u001b[1m \u001b[0m\u001b[1mOutput Shape          \u001b[0m\u001b[1m \u001b[0m┃\u001b[1m \u001b[0m\u001b[1m      Param #\u001b[0m\u001b[1m \u001b[0m┃\n",
       "┡━━━━━━━━━━━━━━━━━━━━━━━━━━━━━━━━━╇━━━━━━━━━━━━━━━━━━━━━━━━╇━━━━━━━━━━━━━━━┩\n",
       "│ embedding_1 (\u001b[38;5;33mEmbedding\u001b[0m)         │ ?                      │   \u001b[38;5;34m0\u001b[0m (unbuilt) │\n",
       "├─────────────────────────────────┼────────────────────────┼───────────────┤\n",
       "│ bidirectional_1 (\u001b[38;5;33mBidirectional\u001b[0m) │ ?                      │   \u001b[38;5;34m0\u001b[0m (unbuilt) │\n",
       "├─────────────────────────────────┼────────────────────────┼───────────────┤\n",
       "│ dropout_1 (\u001b[38;5;33mDropout\u001b[0m)             │ ?                      │             \u001b[38;5;34m0\u001b[0m │\n",
       "├─────────────────────────────────┼────────────────────────┼───────────────┤\n",
       "│ lstm_3 (\u001b[38;5;33mLSTM\u001b[0m)                   │ ?                      │   \u001b[38;5;34m0\u001b[0m (unbuilt) │\n",
       "├─────────────────────────────────┼────────────────────────┼───────────────┤\n",
       "│ dense_2 (\u001b[38;5;33mDense\u001b[0m)                 │ ?                      │   \u001b[38;5;34m0\u001b[0m (unbuilt) │\n",
       "├─────────────────────────────────┼────────────────────────┼───────────────┤\n",
       "│ dense_3 (\u001b[38;5;33mDense\u001b[0m)                 │ ?                      │   \u001b[38;5;34m0\u001b[0m (unbuilt) │\n",
       "└─────────────────────────────────┴────────────────────────┴───────────────┘\n"
      ]
     },
     "metadata": {},
     "output_type": "display_data"
    },
    {
     "data": {
      "text/html": [
       "<pre style=\"white-space:pre;overflow-x:auto;line-height:normal;font-family:Menlo,'DejaVu Sans Mono',consolas,'Courier New',monospace\"><span style=\"font-weight: bold\"> Total params: </span><span style=\"color: #00af00; text-decoration-color: #00af00\">0</span> (0.00 B)\n",
       "</pre>\n"
      ],
      "text/plain": [
       "\u001b[1m Total params: \u001b[0m\u001b[38;5;34m0\u001b[0m (0.00 B)\n"
      ]
     },
     "metadata": {},
     "output_type": "display_data"
    },
    {
     "data": {
      "text/html": [
       "<pre style=\"white-space:pre;overflow-x:auto;line-height:normal;font-family:Menlo,'DejaVu Sans Mono',consolas,'Courier New',monospace\"><span style=\"font-weight: bold\"> Trainable params: </span><span style=\"color: #00af00; text-decoration-color: #00af00\">0</span> (0.00 B)\n",
       "</pre>\n"
      ],
      "text/plain": [
       "\u001b[1m Trainable params: \u001b[0m\u001b[38;5;34m0\u001b[0m (0.00 B)\n"
      ]
     },
     "metadata": {},
     "output_type": "display_data"
    },
    {
     "data": {
      "text/html": [
       "<pre style=\"white-space:pre;overflow-x:auto;line-height:normal;font-family:Menlo,'DejaVu Sans Mono',consolas,'Courier New',monospace\"><span style=\"font-weight: bold\"> Non-trainable params: </span><span style=\"color: #00af00; text-decoration-color: #00af00\">0</span> (0.00 B)\n",
       "</pre>\n"
      ],
      "text/plain": [
       "\u001b[1m Non-trainable params: \u001b[0m\u001b[38;5;34m0\u001b[0m (0.00 B)\n"
      ]
     },
     "metadata": {},
     "output_type": "display_data"
    }
   ],
   "source": [
    "from tensorflow.keras.models import Sequential\n",
    "from tensorflow.keras.layers import Embedding, LSTM, Dense, Bidirectional, Dropout\n",
    "\n",
    "# Define model parameters\n",
    "vocab_size = 10000  # Vocabulary size\n",
    "embedding_dim = 64  # Embedding dimension\n",
    "max_length = 68     # Max sequence length (chosen earlier)\n",
    "\n",
    "# Build the model\n",
    "model = Sequential([\n",
    "    Embedding(vocab_size, embedding_dim),\n",
    "    Bidirectional(LSTM(64, return_sequences=True)),\n",
    "    Dropout(0.5),\n",
    "    LSTM(32),\n",
    "    Dense(16, activation='relu'),\n",
    "    Dense(1, activation='sigmoid')  # Binary classification output\n",
    "])\n",
    "\n",
    "# Compile the model\n",
    "model.compile(\n",
    "    optimizer='adam',\n",
    "    loss='binary_crossentropy',\n",
    "    metrics=['accuracy']\n",
    ")\n",
    "\n",
    "model.summary()\n"
   ]
  },
  {
   "cell_type": "markdown",
   "id": "89f9c228-4c42-4afe-aa6f-66a9fd11cb7e",
   "metadata": {},
   "source": [
    "### Train the Model\n",
    "Train the model on the training dataset. Use a validation split to monitor overfitting."
   ]
  },
  {
   "cell_type": "code",
   "execution_count": 116,
   "id": "b05f8042-4ea6-4342-9c22-aeb3a4bd475c",
   "metadata": {},
   "outputs": [
    {
     "name": "stdout",
     "output_type": "stream",
     "text": [
      "Epoch 1/5\n",
      "\u001b[1m2054/2054\u001b[0m \u001b[32m━━━━━━━━━━━━━━━━━━━━\u001b[0m\u001b[37m\u001b[0m \u001b[1m135s\u001b[0m 64ms/step - accuracy: 0.5094 - loss: 0.6921 - val_accuracy: 0.5460 - val_loss: 0.6892\n",
      "Epoch 2/5\n",
      "\u001b[1m2054/2054\u001b[0m \u001b[32m━━━━━━━━━━━━━━━━━━━━\u001b[0m\u001b[37m\u001b[0m \u001b[1m135s\u001b[0m 66ms/step - accuracy: 0.5627 - loss: 0.6825 - val_accuracy: 0.6373 - val_loss: 0.6455\n",
      "Epoch 3/5\n",
      "\u001b[1m2054/2054\u001b[0m \u001b[32m━━━━━━━━━━━━━━━━━━━━\u001b[0m\u001b[37m\u001b[0m \u001b[1m133s\u001b[0m 65ms/step - accuracy: 0.6697 - loss: 0.6118 - val_accuracy: 0.6823 - val_loss: 0.5861\n",
      "Epoch 4/5\n",
      "\u001b[1m2054/2054\u001b[0m \u001b[32m━━━━━━━━━━━━━━━━━━━━\u001b[0m\u001b[37m\u001b[0m \u001b[1m133s\u001b[0m 65ms/step - accuracy: 0.7360 - loss: 0.5256 - val_accuracy: 0.6909 - val_loss: 0.5746\n",
      "Epoch 5/5\n",
      "\u001b[1m2054/2054\u001b[0m \u001b[32m━━━━━━━━━━━━━━━━━━━━\u001b[0m\u001b[37m\u001b[0m \u001b[1m132s\u001b[0m 64ms/step - accuracy: 0.7617 - loss: 0.4833 - val_accuracy: 0.6949 - val_loss: 0.5855\n"
     ]
    }
   ],
   "source": [
    "# Train the model\n",
    "history = model.fit(\n",
    "    X_train, y_train,\n",
    "    validation_split=0.2,\n",
    "    epochs=5,  # Start with 5 epochs\n",
    "    batch_size=32,\n",
    "    verbose=1\n",
    ")\n"
   ]
  },
  {
   "cell_type": "markdown",
   "id": "0d4ff078-1386-4036-9213-c19035f6882d",
   "metadata": {},
   "source": [
    "### Evaluate the Model\n",
    "Once trained, evaluate the model on the test set."
   ]
  },
  {
   "cell_type": "code",
   "execution_count": 123,
   "id": "f7e0699a-4de8-423b-af90-cb2f2ffaaeef",
   "metadata": {},
   "outputs": [
    {
     "name": "stdout",
     "output_type": "stream",
     "text": [
      "\u001b[1m642/642\u001b[0m \u001b[32m━━━━━━━━━━━━━━━━━━━━\u001b[0m\u001b[37m\u001b[0m \u001b[1m10s\u001b[0m 15ms/step - accuracy: 0.6909 - loss: 0.5936\n",
      "Test Accuracy: 0.692345142364502\n"
     ]
    }
   ],
   "source": [
    "# Evaluate on test data\n",
    "test_loss, test_accuracy = model.evaluate(X_test, y_test, verbose=1)\n",
    "print(f\"Test Accuracy: {test_accuracy}\")"
   ]
  },
  {
   "cell_type": "markdown",
   "id": "2f841f78-5d46-407c-9767-9ef4dbc56b91",
   "metadata": {},
   "source": [
    "### Make Predictions\n",
    "You can now make predictions on unseen data or the test set."
   ]
  },
  {
   "cell_type": "code",
   "execution_count": 124,
   "id": "4e4eaff4-573d-4fc5-9cb1-35ae4664453c",
   "metadata": {},
   "outputs": [
    {
     "name": "stdout",
     "output_type": "stream",
     "text": [
      "\u001b[1m642/642\u001b[0m \u001b[32m━━━━━━━━━━━━━━━━━━━━\u001b[0m\u001b[37m\u001b[0m \u001b[1m10s\u001b[0m 15ms/step\n",
      "              precision    recall  f1-score   support\n",
      "\n",
      " Republicans       0.71      0.65      0.68     10240\n",
      "   Democrats       0.68      0.74      0.71     10296\n",
      "\n",
      "    accuracy                           0.69     20536\n",
      "   macro avg       0.69      0.69      0.69     20536\n",
      "weighted avg       0.69      0.69      0.69     20536\n",
      "\n"
     ]
    }
   ],
   "source": [
    "# Predict the labels\n",
    "predictions = model.predict(X_test)\n",
    "predicted_classes = (predictions > 0.5).astype(int)\n",
    "\n",
    "# Compare predictions to ground truth\n",
    "from sklearn.metrics import classification_report\n",
    "print(classification_report(y_test, predicted_classes, target_names=['Republicans', 'Democrats']))\n"
   ]
  },
  {
   "cell_type": "markdown",
   "id": "e3c79250-a84c-431a-aed4-e64152d58382",
   "metadata": {},
   "source": [
    "### **Assessment of Results**\n",
    "\n",
    "#### **Key Metrics**\n",
    "- **Precision**:\n",
    "  - Republicans: **0.71**\n",
    "  - Democrats: **0.68**\n",
    "  - Indicates that predictions for Republicans are more accurate (fewer false positives).\n",
    "\n",
    "- **Recall**:\n",
    "  - Republicans: **0.65**\n",
    "  - Democrats: **0.74**\n",
    "  - Suggests that Democrats are easier to classify in terms of identifying all relevant instances (fewer false negatives).\n",
    "\n",
    "- **F1-Score**:\n",
    "  - Republicans: **0.68**\n",
    "  - Democrats: **0.71**\n",
    "  - Shows slightly better overall performance for Democrats.\n",
    "\n",
    "- **Accuracy**:\n",
    "  - **0.69** overall.\n",
    "  - This indicates that while the model is doing reasonably well, there is room for improvement, especially given the balanced dataset.\n",
    "\n",
    "---\n",
    "\n",
    "#### **Key Observations**\n",
    "1. **Democrats are easier to classify**:\n",
    "   - Higher recall for Democrats (0.74) suggests the model is better at identifying Democrat comments compared to Republicans.\n",
    "\n",
    "2. **Room for improvement**:\n",
    "   - The overall accuracy and F1-scores indicate that the model can be enhanced further, potentially by using techniques like hyperparameter tuning, adding more features, or leveraging pretrained embeddings.\n",
    "\n",
    "3. **Model Bias**:\n",
    "   - The disparity in recall and precision between the two classes suggests that Democrats’ comments may have more distinctive patterns or linguistic features that the model is capturing.\n"
   ]
  },
  {
   "cell_type": "code",
   "execution_count": 134,
   "id": "9a4c59e2-b137-4ec8-a5d5-86f3501e3c34",
   "metadata": {},
   "outputs": [
    {
     "name": "stdout",
     "output_type": "stream",
     "text": [
      "\u001b[1m1/1\u001b[0m \u001b[32m━━━━━━━━━━━━━━━━━━━━\u001b[0m\u001b[37m\u001b[0m \u001b[1m0s\u001b[0m 27ms/step\n",
      "Comment: I strongly believe in equal rights and social justice.\n",
      "Predicted Label: Democrats\n",
      "\n",
      "Comment: Taxes are too high, and the government is inefficient.\n",
      "Predicted Label: Republicans\n",
      "\n",
      "Comment: We need to focus on climate change before it's too late.\n",
      "Predicted Label: Democrats\n",
      "\n",
      "Comment: Trump is the worst human being in the world.\n",
      "Predicted Label: Democrats\n",
      "\n"
     ]
    }
   ],
   "source": [
    "# Custom comments\n",
    "custom_comments = [\n",
    "    \"I strongly believe in equal rights and social justice.\",\n",
    "    \"Taxes are too high, and the government is inefficient.\",\n",
    "    \"We need to focus on climate change before it's too late.\",\n",
    "    \"Trump is the worst human being in the world.\"\n",
    "]\n",
    "\n",
    "# Preprocess custom comments\n",
    "custom_sequences = tokenizer.texts_to_sequences(custom_comments)\n",
    "custom_padded = pad_sequences(custom_sequences, maxlen=max_sequence_length, padding='post')\n",
    "\n",
    "# Predict labels\n",
    "custom_predictions = model.predict(custom_padded)\n",
    "custom_classes = (custom_predictions > 0.5).astype(int)\n",
    "\n",
    "# Map predicted labels back to text\n",
    "label_map_reverse = {0: 'Republicans', 1: 'Democrats'}\n",
    "predicted_labels = [label_map_reverse[label] for label in custom_classes.flatten()]\n",
    "\n",
    "# Print results\n",
    "for comment, label in zip(custom_comments, predicted_labels):\n",
    "    print(f\"Comment: {comment}\\nPredicted Label: {label}\\n\")\n"
   ]
  },
  {
   "cell_type": "code",
   "execution_count": null,
   "id": "55931ad8-3290-4b7c-89b6-9b394fb24bd8",
   "metadata": {},
   "outputs": [],
   "source": []
  }
 ],
 "metadata": {
  "kernelspec": {
   "display_name": "Python [conda env:base] *",
   "language": "python",
   "name": "conda-base-py"
  },
  "language_info": {
   "codemirror_mode": {
    "name": "ipython",
    "version": 3
   },
   "file_extension": ".py",
   "mimetype": "text/x-python",
   "name": "python",
   "nbconvert_exporter": "python",
   "pygments_lexer": "ipython3",
   "version": "3.12.7"
  }
 },
 "nbformat": 4,
 "nbformat_minor": 5
}
